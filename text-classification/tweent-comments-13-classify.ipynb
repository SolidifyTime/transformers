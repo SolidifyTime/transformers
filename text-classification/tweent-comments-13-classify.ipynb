{
 "cells": [
  {
   "cell_type": "markdown",
   "id": "7b31e7be",
   "metadata": {},
   "source": [
    "## library"
   ]
  },
  {
   "cell_type": "code",
   "execution_count": null,
   "id": "2e81c18f",
   "metadata": {},
   "outputs": [],
   "source": [
    "from transformers import AutoTokenizer, AutoModelForSequenceClassification, AutoConfig\n",
    "from torch.utils.data import Dataset, random_split, DataLoader\n",
    "import pandas as pd\n",
    "import torch\n",
    "from torch.optim import Adam\n",
    "import numpy as np\n",
    "from sklearn.metrics import roc_auc_score"
   ]
  },
  {
   "cell_type": "markdown",
   "id": "fae7b7b5",
   "metadata": {},
   "source": [
    "# dataset"
   ]
  },
  {
   "cell_type": "code",
   "execution_count": null,
   "id": "fca0f9a8",
   "metadata": {},
   "outputs": [],
   "source": [
    "data = pd.read_csv('train.csv')\n",
    "data.head()"
   ]
  },
  {
   "cell_type": "code",
   "execution_count": null,
   "id": "d3915c7f",
   "metadata": {},
   "outputs": [],
   "source": [
    "data.isna().sum()"
   ]
  },
  {
   "cell_type": "code",
   "execution_count": null,
   "id": "03c6bd39",
   "metadata": {},
   "outputs": [],
   "source": [
    "class MyDataset(Dataset):\n",
    "    def __init__(self, csv_file='train.csv'):\n",
    "        super().__init__()\n",
    "        self.data = pd.read_csv(csv_file)\n",
    "        self.data['Label'] = self.data['Label'].astype(int)\n",
    "\n",
    "    def __getitem__(self, index):\n",
    "        return self.data.iloc[index]['content'], self.data.iloc[index]['Label']\n",
    "\n",
    "    def __len__(self):\n",
    "        return len(self.data)"
   ]
  },
  {
   "cell_type": "code",
   "execution_count": null,
   "id": "44171391",
   "metadata": {},
   "outputs": [],
   "source": [
    "dataset = MyDataset('train.csv')\n",
    "for i in range(5):\n",
    "    print(dataset[i])"
   ]
  },
  {
   "cell_type": "markdown",
   "id": "35cecebd",
   "metadata": {},
   "source": [
    "# split"
   ]
  },
  {
   "cell_type": "code",
   "execution_count": null,
   "id": "30467179",
   "metadata": {},
   "outputs": [],
   "source": [
    "train_dataset, val_dataset = random_split(dataset, lengths=[0.8, 0.2])\n",
    "len(train_dataset), len(val_dataset)"
   ]
  },
  {
   "cell_type": "markdown",
   "id": "11d098bb",
   "metadata": {},
   "source": [
    "# Dataloader"
   ]
  },
  {
   "cell_type": "code",
   "execution_count": null,
   "id": "48557719",
   "metadata": {},
   "outputs": [],
   "source": [
    "tokenizer = AutoTokenizer.from_pretrained('roberta-base')"
   ]
  },
  {
   "cell_type": "code",
   "execution_count": null,
   "id": "8fda2c5e",
   "metadata": {},
   "outputs": [],
   "source": [
    "def collate_func(batch):\n",
    "    texts, labels = [], []\n",
    "    for item in batch:\n",
    "        texts.append(item[0])\n",
    "        labels.append(item[1])\n",
    "\n",
    "    inputs = tokenizer(\n",
    "        texts,\n",
    "        max_length=128,\n",
    "        padding='max_length',\n",
    "        truncation=True,\n",
    "        return_tensors='pt'\n",
    "    )\n",
    "    inputs['labels'] = torch.tensor(labels, dtype=torch.long)\n",
    "    return inputs"
   ]
  },
  {
   "cell_type": "code",
   "execution_count": null,
   "id": "49c06300",
   "metadata": {},
   "outputs": [],
   "source": [
    "train_loader = DataLoader(\n",
    "    train_dataset,\n",
    "    batch_size=128,\n",
    "    shuffle=True,\n",
    "    collate_fn=lambda batch: collate_func(batch, tokenizer)\n",
    ")\n",
    "val_loader = DataLoader(\n",
    "    val_dataset,\n",
    "    batch_size=128,\n",
    "    shuffle=False,\n",
    "    collate_fn=lambda batch: collate_func(batch, tokenizer)\n",
    ")"
   ]
  },
  {
   "cell_type": "code",
   "execution_count": null,
   "id": "882ca148",
   "metadata": {},
   "outputs": [],
   "source": [
    "next(enumerate(train_loader))[1]"
   ]
  },
  {
   "cell_type": "markdown",
   "id": "279f4fdb",
   "metadata": {},
   "source": [
    "# model"
   ]
  },
  {
   "cell_type": "code",
   "execution_count": null,
   "id": "954e0b7a",
   "metadata": {},
   "outputs": [],
   "source": [
    "num_labels = len(data['Label'].unique())\n",
    "\n",
    "config = AutoConfig.from_pretrained('roberta-base')\n",
    "config.num_labels = num_labels\n",
    "\n",
    "model = AutoModelForSequenceClassification.from_pretrained(\n",
    "    'roberta-base',\n",
    "    config=config\n",
    ")\n",
    "\n",
    "if torch.cuda.is_available():\n",
    "    model = model.cuda()"
   ]
  },
  {
   "cell_type": "markdown",
   "id": "19d70b45",
   "metadata": {},
   "source": [
    "# optimizer"
   ]
  },
  {
   "cell_type": "code",
   "execution_count": null,
   "id": "bc8c0376",
   "metadata": {},
   "outputs": [],
   "source": [
    "optimizer = Adam(model.parameters(), lr=2e-5)"
   ]
  },
  {
   "cell_type": "markdown",
   "id": "f98d98fd",
   "metadata": {},
   "source": [
    "# evaluate"
   ]
  },
  {
   "cell_type": "code",
   "execution_count": null,
   "id": "d1fa2ca6",
   "metadata": {},
   "outputs": [],
   "source": [
    "def evaluate_auc(model, validloader):\n",
    "    model.eval()\n",
    "    all_labels = []\n",
    "    all_probabilities = []\n",
    "    \n",
    "    with torch.inference_mode():\n",
    "        for batch in validloader:\n",
    "            if torch.cuda.is_available():\n",
    "                batch = {k: v.cuda() for k, v in batch.items()}\n",
    "\n",
    "            output = model(**batch)\n",
    "            probabilities = torch.softmax(output.logits, dim=1)\n",
    "            \n",
    "            all_labels.extend(batch['labels'].cpu().numpy())\n",
    "            all_probabilities.extend(probabilities.cpu().numpy())\n",
    "    \n",
    "    all_labels = np.array(all_labels)\n",
    "    all_probabilities = np.array(all_probabilities)\n",
    "    \n",
    "    # macro-averaged AUC\n",
    "\n",
    "    auc_score = roc_auc_score(\n",
    "        all_labels, \n",
    "        all_probabilities, \n",
    "        multi_class='ovr', \n",
    "        average='macro'\n",
    "    )\n",
    "    \n",
    "    predictions = np.argmax(all_probabilities, axis=1)\n",
    "    accuracy = (predictions == all_labels).mean()\n",
    "    \n",
    "    return auc_score, accuracy"
   ]
  },
  {
   "cell_type": "markdown",
   "id": "028dbfca",
   "metadata": {},
   "source": [
    "# train"
   ]
  },
  {
   "cell_type": "code",
   "execution_count": null,
   "id": "05e8d1c3",
   "metadata": {},
   "outputs": [],
   "source": [
    "def train(model, trainloader, validloader, epochs=5, log_step=100):\n",
    "    global_step = 0\n",
    "    best_auc = 0\n",
    "    \n",
    "    for ep in range(epochs):\n",
    "        model.train()\n",
    "        total_loss = 0\n",
    "\n",
    "        for batch_idx, batch in enumerate(trainloader):\n",
    "            if torch.cuda.is_available():\n",
    "                batch = {k: v.cuda() for k, v in batch.items()}\n",
    "\n",
    "            optimizer.zero_grad()\n",
    "            output = model(**batch)\n",
    "            loss = output.loss\n",
    "            loss.backward()\n",
    "            optimizer.step()\n",
    "\n",
    "            total_loss += loss.item()\n",
    "\n",
    "            if global_step % log_step == 0:\n",
    "                print(f'Epoch: {ep+1}/{epochs}, Step: {global_step}, Loss: {loss.item():.4f}')\n",
    "\n",
    "            global_step += 1\n",
    "\n",
    "        avg_loss = total_loss / len(trainloader)\n",
    "        auc_score, accuracy = evaluate_auc(model, validloader, validset)\n",
    "        \n",
    "        print(f'Epoch {ep+1} completed - Avg Loss: {avg_loss:.4f}, AUC: {auc_score:.4f}, Accuracy: {accuracy:.4f}')\n",
    "        \n",
    "        if auc_score > best_auc:\n",
    "            best_auc = auc_score\n",
    "            print(f'best auc: {best_auc:.4f}')\n",
    "            # model.save_pretrained('./best_model')\n",
    "            # tokenizer.save_pretrained('./best_model')\n",
    "\n",
    "    return model"
   ]
  },
  {
   "cell_type": "code",
   "execution_count": null,
   "id": "94b1b09e",
   "metadata": {},
   "outputs": [],
   "source": [
    "trained_model = train(model, train_loader, val_loader, val_dataset, epochs=3)"
   ]
  },
  {
   "cell_type": "markdown",
   "id": "b4060ffd",
   "metadata": {},
   "source": [
    "# predict"
   ]
  },
  {
   "cell_type": "code",
   "execution_count": null,
   "id": "5da63f60",
   "metadata": {},
   "outputs": [],
   "source": [
    "def predict(model, tokenizer, texts):\n",
    "    model.eval()\n",
    "    predictions = []\n",
    "\n",
    "    with torch.inference_mode():\n",
    "        for text in texts:\n",
    "            inputs = tokenizer(\n",
    "                text,\n",
    "                max_length=128,\n",
    "                padding='max_length',\n",
    "                truncation=True,\n",
    "                return_tensors='pt'\n",
    "            )\n",
    "\n",
    "            if torch.cuda.is_available():\n",
    "                inputs = {k: v.cuda() for k, v in inputs.items()}\n",
    "\n",
    "            output = model(**inputs)\n",
    "            pred = torch.argmax(output.logits, dim=-1)\n",
    "            predictions.append(pred.cpu().item())\n",
    "\n",
    "    return predictions"
   ]
  },
  {
   "cell_type": "code",
   "execution_count": null,
   "id": "abd07912",
   "metadata": {},
   "outputs": [],
   "source": [
    "def predict_test_set(model, tokenizer, test_file='test.csv', batch_size=32):\n",
    "    test_data = pd.read_csv(test_file)\n",
    "    predictions = []\n",
    "    \n",
    "    model.eval()\n",
    "    with torch.inference_mode():\n",
    "        for i in range(0, len(test_data), batch_size):\n",
    "            batch_texts = test_data.iloc[i:i+batch_size]['content'].tolist()\n",
    "            \n",
    "            inputs = tokenizer(\n",
    "                batch_texts,\n",
    "                max_length=128,\n",
    "                padding='max_length',\n",
    "                truncation=True,\n",
    "                return_tensors='pt'\n",
    "            )\n",
    "            \n",
    "            if torch.cuda.is_available():\n",
    "                inputs = {k: v.cuda() for k, v in inputs.items()}\n",
    "            \n",
    "            outputs = model(**inputs)\n",
    "            batch_predictions = torch.argmax(outputs.logits, dim=1)\n",
    "            \n",
    "            predictions.extend(batch_predictions.cpu().numpy())\n",
    "    \n",
    "    return predictions"
   ]
  },
  {
   "cell_type": "code",
   "execution_count": null,
   "id": "13ce2e94",
   "metadata": {},
   "outputs": [],
   "source": [
    "test_predictions = predict_test_set(trained_model, tokenizer, 'test.csv')"
   ]
  },
  {
   "cell_type": "markdown",
   "id": "0360613b",
   "metadata": {},
   "source": [
    "# save"
   ]
  },
  {
   "cell_type": "code",
   "execution_count": null,
   "id": "610c2f15",
   "metadata": {},
   "outputs": [],
   "source": [
    "test_data = pd.read_csv('test.csv')\n",
    "\n",
    "submission = pd.DataFrame({\n",
    "    'ID': test_data['ID'],\n",
    "    'Prediction': test_predictions\n",
    "})\n",
    "\n",
    "submission.to_csv('result-bert.csv', index=False)\n",
    "print(submission['Prediction'].value_counts().sort_index())"
   ]
  }
 ],
 "metadata": {
  "kernelspec": {
   "display_name": "transformers_env",
   "language": "python",
   "name": "python3"
  },
  "language_info": {
   "codemirror_mode": {
    "name": "ipython",
    "version": 3
   },
   "file_extension": ".py",
   "mimetype": "text/x-python",
   "name": "python",
   "nbconvert_exporter": "python",
   "pygments_lexer": "ipython3",
   "version": "3.10.16"
  }
 },
 "nbformat": 4,
 "nbformat_minor": 5
}
